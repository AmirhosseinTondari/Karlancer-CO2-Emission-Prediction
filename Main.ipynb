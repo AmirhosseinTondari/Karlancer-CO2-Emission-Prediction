{
 "cells": [
  {
   "cell_type": "markdown",
   "id": "13275326",
   "metadata": {},
   "source": [
    "# Imports"
   ]
  },
  {
   "cell_type": "markdown",
   "id": "bb7ad896",
   "metadata": {},
   "source": [
    "## Pakages"
   ]
  },
  {
   "cell_type": "code",
   "execution_count": 1,
   "id": "8ecd2fd4",
   "metadata": {},
   "outputs": [],
   "source": [
    "# Data Handling\n",
    "import numpy as np\n",
    "import pandas as pd\n",
    "\n",
    "# Data Visualization\n",
    "import matplotlib.pyplot as plt\n",
    "import seaborn as sns\n",
    "\n",
    "# Utils\n",
    "import os, datetime, copy\n",
    "from sklearn.metrics import mean_squared_error, r2_score, mean_absolute_error\n",
    "from sklearn.pipeline import Pipeline\n",
    "from sklearn.compose import ColumnTransformer\n",
    "from sklearn.preprocessing import MinMaxScaler, OneHotEncoder\n",
    "import tensorflow as tf\n",
    "\n",
    "# Models\n",
    "from tensorflow.keras.models import Sequential, Model\n",
    "from tensorflow.keras import layers, optimizers, metrics, losses\n",
    "from xgboost import XGBRegressor\n",
    "from sklearn.ensemble import RandomForestRegressor\n",
    "from sklearn.linear_model import LinearRegression"
   ]
  },
  {
   "cell_type": "code",
   "execution_count": 2,
   "id": "1770988e",
   "metadata": {},
   "outputs": [
    {
     "data": {
      "text/plain": [
       "'2.10.0'"
      ]
     },
     "execution_count": 2,
     "metadata": {},
     "output_type": "execute_result"
    }
   ],
   "source": [
    "tf.__version__"
   ]
  },
  {
   "cell_type": "code",
   "execution_count": 3,
   "id": "db153edd",
   "metadata": {},
   "outputs": [
    {
     "data": {
      "text/plain": [
       "[PhysicalDevice(name='/physical_device:CPU:0', device_type='CPU'),\n",
       " PhysicalDevice(name='/physical_device:GPU:0', device_type='GPU')]"
      ]
     },
     "execution_count": 3,
     "metadata": {},
     "output_type": "execute_result"
    }
   ],
   "source": [
    "tf.config.list_physical_devices()"
   ]
  },
  {
   "cell_type": "markdown",
   "id": "408e2ef0",
   "metadata": {},
   "source": [
    "## Notebook Config"
   ]
  },
  {
   "cell_type": "code",
   "execution_count": 4,
   "id": "60bd16d3",
   "metadata": {},
   "outputs": [],
   "source": [
    "class cfg:\n",
    "    base_dir = os.getcwd()\n",
    "    data_dir = f'{base_dir}\\\\Data\\\\1.xlsx'\n",
    "    is_validation_phase = True\n",
    "    color = sns.color_palette()\n",
    "    split_date = 2018\n",
    "    country = 'brazil'\n",
    "    window_size = 5"
   ]
  },
  {
   "cell_type": "markdown",
   "id": "64edc308",
   "metadata": {},
   "source": [
    "## Importing Data"
   ]
  },
  {
   "cell_type": "code",
   "execution_count": 5,
   "id": "6a956178",
   "metadata": {},
   "outputs": [
    {
     "data": {
      "text/html": [
       "<div>\n",
       "<style scoped>\n",
       "    .dataframe tbody tr th:only-of-type {\n",
       "        vertical-align: middle;\n",
       "    }\n",
       "\n",
       "    .dataframe tbody tr th {\n",
       "        vertical-align: top;\n",
       "    }\n",
       "\n",
       "    .dataframe thead th {\n",
       "        text-align: right;\n",
       "    }\n",
       "</style>\n",
       "<table border=\"1\" class=\"dataframe\">\n",
       "  <thead>\n",
       "    <tr style=\"text-align: right;\">\n",
       "      <th></th>\n",
       "      <th>سال</th>\n",
       "      <th>iran</th>\n",
       "      <th>india</th>\n",
       "      <th>china</th>\n",
       "      <th>usa</th>\n",
       "      <th>russia</th>\n",
       "      <th>saudi</th>\n",
       "      <th>japan</th>\n",
       "      <th>south k</th>\n",
       "      <th>germany</th>\n",
       "      <th>indo</th>\n",
       "      <th>brazil</th>\n",
       "    </tr>\n",
       "  </thead>\n",
       "  <tbody>\n",
       "    <tr>\n",
       "      <th>0</th>\n",
       "      <td>1981</td>\n",
       "      <td>113.00</td>\n",
       "      <td>314.97</td>\n",
       "      <td>1480</td>\n",
       "      <td>4690.0</td>\n",
       "      <td>2090</td>\n",
       "      <td>175.30</td>\n",
       "      <td>926.84</td>\n",
       "      <td>139.59</td>\n",
       "      <td>1050.0</td>\n",
       "      <td>100.30</td>\n",
       "      <td>170.61</td>\n",
       "    </tr>\n",
       "    <tr>\n",
       "      <th>1</th>\n",
       "      <td>1982</td>\n",
       "      <td>137.77</td>\n",
       "      <td>325.38</td>\n",
       "      <td>1610</td>\n",
       "      <td>4450.0</td>\n",
       "      <td>2130</td>\n",
       "      <td>157.89</td>\n",
       "      <td>897.41</td>\n",
       "      <td>140.78</td>\n",
       "      <td>1020.0</td>\n",
       "      <td>105.58</td>\n",
       "      <td>170.81</td>\n",
       "    </tr>\n",
       "    <tr>\n",
       "      <th>2</th>\n",
       "      <td>1983</td>\n",
       "      <td>149.58</td>\n",
       "      <td>352.20</td>\n",
       "      <td>1690</td>\n",
       "      <td>4430.0</td>\n",
       "      <td>2160</td>\n",
       "      <td>160.84</td>\n",
       "      <td>880.91</td>\n",
       "      <td>149.13</td>\n",
       "      <td>1010.0</td>\n",
       "      <td>105.18</td>\n",
       "      <td>165.35</td>\n",
       "    </tr>\n",
       "    <tr>\n",
       "      <th>3</th>\n",
       "      <td>1984</td>\n",
       "      <td>149.86</td>\n",
       "      <td>361.56</td>\n",
       "      <td>1840</td>\n",
       "      <td>4660.0</td>\n",
       "      <td>2180</td>\n",
       "      <td>155.51</td>\n",
       "      <td>937.07</td>\n",
       "      <td>160.70</td>\n",
       "      <td>1030.0</td>\n",
       "      <td>112.46</td>\n",
       "      <td>167.08</td>\n",
       "    </tr>\n",
       "    <tr>\n",
       "      <th>4</th>\n",
       "      <td>1985</td>\n",
       "      <td>159.86</td>\n",
       "      <td>397.59</td>\n",
       "      <td>2000</td>\n",
       "      <td>4650.0</td>\n",
       "      <td>2350</td>\n",
       "      <td>172.42</td>\n",
       "      <td>912.40</td>\n",
       "      <td>168.76</td>\n",
       "      <td>1040.0</td>\n",
       "      <td>121.60</td>\n",
       "      <td>179.59</td>\n",
       "    </tr>\n",
       "  </tbody>\n",
       "</table>\n",
       "</div>"
      ],
      "text/plain": [
       "    سال    iran   india  china     usa  russia   saudi   japan  south k  \\\n",
       "0  1981  113.00  314.97   1480  4690.0    2090  175.30  926.84   139.59   \n",
       "1  1982  137.77  325.38   1610  4450.0    2130  157.89  897.41   140.78   \n",
       "2  1983  149.58  352.20   1690  4430.0    2160  160.84  880.91   149.13   \n",
       "3  1984  149.86  361.56   1840  4660.0    2180  155.51  937.07   160.70   \n",
       "4  1985  159.86  397.59   2000  4650.0    2350  172.42  912.40   168.76   \n",
       "\n",
       "   germany    indo  brazil  \n",
       "0   1050.0  100.30  170.61  \n",
       "1   1020.0  105.58  170.81  \n",
       "2   1010.0  105.18  165.35  \n",
       "3   1030.0  112.46  167.08  \n",
       "4   1040.0  121.60  179.59  "
      ]
     },
     "execution_count": 5,
     "metadata": {},
     "output_type": "execute_result"
    }
   ],
   "source": [
    "df = pd.read_excel(cfg.data_dir, header=1)\n",
    "df.head()"
   ]
  },
  {
   "cell_type": "code",
   "execution_count": 6,
   "id": "f846a9d4",
   "metadata": {},
   "outputs": [
    {
     "data": {
      "text/html": [
       "<div>\n",
       "<style scoped>\n",
       "    .dataframe tbody tr th:only-of-type {\n",
       "        vertical-align: middle;\n",
       "    }\n",
       "\n",
       "    .dataframe tbody tr th {\n",
       "        vertical-align: top;\n",
       "    }\n",
       "\n",
       "    .dataframe thead th {\n",
       "        text-align: right;\n",
       "    }\n",
       "</style>\n",
       "<table border=\"1\" class=\"dataframe\">\n",
       "  <thead>\n",
       "    <tr style=\"text-align: right;\">\n",
       "      <th></th>\n",
       "      <th>سال</th>\n",
       "      <th>brazil</th>\n",
       "    </tr>\n",
       "  </thead>\n",
       "  <tbody>\n",
       "    <tr>\n",
       "      <th>0</th>\n",
       "      <td>1981</td>\n",
       "      <td>170.61</td>\n",
       "    </tr>\n",
       "    <tr>\n",
       "      <th>1</th>\n",
       "      <td>1982</td>\n",
       "      <td>170.81</td>\n",
       "    </tr>\n",
       "    <tr>\n",
       "      <th>2</th>\n",
       "      <td>1983</td>\n",
       "      <td>165.35</td>\n",
       "    </tr>\n",
       "    <tr>\n",
       "      <th>3</th>\n",
       "      <td>1984</td>\n",
       "      <td>167.08</td>\n",
       "    </tr>\n",
       "    <tr>\n",
       "      <th>4</th>\n",
       "      <td>1985</td>\n",
       "      <td>179.59</td>\n",
       "    </tr>\n",
       "  </tbody>\n",
       "</table>\n",
       "</div>"
      ],
      "text/plain": [
       "    سال  brazil\n",
       "0  1981  170.61\n",
       "1  1982  170.81\n",
       "2  1983  165.35\n",
       "3  1984  167.08\n",
       "4  1985  179.59"
      ]
     },
     "execution_count": 6,
     "metadata": {},
     "output_type": "execute_result"
    }
   ],
   "source": [
    "df = df[['سال', cfg.country]]\n",
    "for col in ['china', 'usa', 'japan', 'russia']:\n",
    "    if cfg.country == col:\n",
    "        df[col] = df[col]*1000\n",
    "df.head()"
   ]
  },
  {
   "cell_type": "code",
   "execution_count": 7,
   "id": "e0e6ded4",
   "metadata": {},
   "outputs": [
    {
     "data": {
      "text/plain": [
       "سال         int64\n",
       "brazil    float64\n",
       "dtype: object"
      ]
     },
     "execution_count": 7,
     "metadata": {},
     "output_type": "execute_result"
    }
   ],
   "source": [
    "df.dtypes"
   ]
  },
  {
   "cell_type": "code",
   "execution_count": 8,
   "id": "c660238f",
   "metadata": {},
   "outputs": [
    {
     "name": "stderr",
     "output_type": "stream",
     "text": [
      "C:\\Users\\Amirhossein\\AppData\\Local\\Temp\\ipykernel_15216\\1309968135.py:12: FutureWarning: The frame.append method is deprecated and will be removed from pandas in a future version. Use pandas.concat instead.\n",
      "  featured_df = featured_df.append(temp, ignore_index=True)\n"
     ]
    }
   ],
   "source": [
    "grouped_df = df.copy()\n",
    "grouped_df = grouped_df.rename(columns={'سال':'year'})\n",
    "grouped_df = grouped_df.set_index('year')\n",
    "featured_df = pd.DataFrame()\n",
    "for col in df.columns[1:]:\n",
    "    temp = np.stack([df['سال'].values,\n",
    "                     np.array([col]*df.shape[0]),\n",
    "                     df[col].values],\n",
    "                     axis=1)\n",
    "    temp = pd.DataFrame(temp)\n",
    "    \n",
    "    featured_df = featured_df.append(temp, ignore_index=True)\n",
    "featured_df.columns = ['year', 'country', 'emission']\n",
    "featured_df = featured_df.sort_values(['year', 'country'])\n",
    "featured_df.index = range(featured_df.shape[0])\n",
    "featured_df['year'] = featured_df['year'].astype('int')\n",
    "featured_df['emission'] = featured_df['emission'].astype('float')"
   ]
  },
  {
   "cell_type": "code",
   "execution_count": 9,
   "id": "3fd1ff78",
   "metadata": {},
   "outputs": [
    {
     "data": {
      "text/html": [
       "<div>\n",
       "<style scoped>\n",
       "    .dataframe tbody tr th:only-of-type {\n",
       "        vertical-align: middle;\n",
       "    }\n",
       "\n",
       "    .dataframe tbody tr th {\n",
       "        vertical-align: top;\n",
       "    }\n",
       "\n",
       "    .dataframe thead th {\n",
       "        text-align: right;\n",
       "    }\n",
       "</style>\n",
       "<table border=\"1\" class=\"dataframe\">\n",
       "  <thead>\n",
       "    <tr style=\"text-align: right;\">\n",
       "      <th></th>\n",
       "      <th>year</th>\n",
       "      <th>country</th>\n",
       "      <th>emission</th>\n",
       "    </tr>\n",
       "  </thead>\n",
       "  <tbody>\n",
       "    <tr>\n",
       "      <th>0</th>\n",
       "      <td>1981</td>\n",
       "      <td>brazil</td>\n",
       "      <td>170.61</td>\n",
       "    </tr>\n",
       "    <tr>\n",
       "      <th>1</th>\n",
       "      <td>1982</td>\n",
       "      <td>brazil</td>\n",
       "      <td>170.81</td>\n",
       "    </tr>\n",
       "    <tr>\n",
       "      <th>2</th>\n",
       "      <td>1983</td>\n",
       "      <td>brazil</td>\n",
       "      <td>165.35</td>\n",
       "    </tr>\n",
       "    <tr>\n",
       "      <th>3</th>\n",
       "      <td>1984</td>\n",
       "      <td>brazil</td>\n",
       "      <td>167.08</td>\n",
       "    </tr>\n",
       "    <tr>\n",
       "      <th>4</th>\n",
       "      <td>1985</td>\n",
       "      <td>brazil</td>\n",
       "      <td>179.59</td>\n",
       "    </tr>\n",
       "  </tbody>\n",
       "</table>\n",
       "</div>"
      ],
      "text/plain": [
       "   year country  emission\n",
       "0  1981  brazil    170.61\n",
       "1  1982  brazil    170.81\n",
       "2  1983  brazil    165.35\n",
       "3  1984  brazil    167.08\n",
       "4  1985  brazil    179.59"
      ]
     },
     "execution_count": 9,
     "metadata": {},
     "output_type": "execute_result"
    }
   ],
   "source": [
    "featured_df.head()"
   ]
  },
  {
   "cell_type": "markdown",
   "id": "e98d94c9",
   "metadata": {},
   "source": [
    "## Preprocess"
   ]
  },
  {
   "cell_type": "code",
   "execution_count": 10,
   "id": "969afb32",
   "metadata": {},
   "outputs": [
    {
     "data": {
      "text/html": [
       "<style>#sk-container-id-1 {color: black;background-color: white;}#sk-container-id-1 pre{padding: 0;}#sk-container-id-1 div.sk-toggleable {background-color: white;}#sk-container-id-1 label.sk-toggleable__label {cursor: pointer;display: block;width: 100%;margin-bottom: 0;padding: 0.3em;box-sizing: border-box;text-align: center;}#sk-container-id-1 label.sk-toggleable__label-arrow:before {content: \"▸\";float: left;margin-right: 0.25em;color: #696969;}#sk-container-id-1 label.sk-toggleable__label-arrow:hover:before {color: black;}#sk-container-id-1 div.sk-estimator:hover label.sk-toggleable__label-arrow:before {color: black;}#sk-container-id-1 div.sk-toggleable__content {max-height: 0;max-width: 0;overflow: hidden;text-align: left;background-color: #f0f8ff;}#sk-container-id-1 div.sk-toggleable__content pre {margin: 0.2em;color: black;border-radius: 0.25em;background-color: #f0f8ff;}#sk-container-id-1 input.sk-toggleable__control:checked~div.sk-toggleable__content {max-height: 200px;max-width: 100%;overflow: auto;}#sk-container-id-1 input.sk-toggleable__control:checked~label.sk-toggleable__label-arrow:before {content: \"▾\";}#sk-container-id-1 div.sk-estimator input.sk-toggleable__control:checked~label.sk-toggleable__label {background-color: #d4ebff;}#sk-container-id-1 div.sk-label input.sk-toggleable__control:checked~label.sk-toggleable__label {background-color: #d4ebff;}#sk-container-id-1 input.sk-hidden--visually {border: 0;clip: rect(1px 1px 1px 1px);clip: rect(1px, 1px, 1px, 1px);height: 1px;margin: -1px;overflow: hidden;padding: 0;position: absolute;width: 1px;}#sk-container-id-1 div.sk-estimator {font-family: monospace;background-color: #f0f8ff;border: 1px dotted black;border-radius: 0.25em;box-sizing: border-box;margin-bottom: 0.5em;}#sk-container-id-1 div.sk-estimator:hover {background-color: #d4ebff;}#sk-container-id-1 div.sk-parallel-item::after {content: \"\";width: 100%;border-bottom: 1px solid gray;flex-grow: 1;}#sk-container-id-1 div.sk-label:hover label.sk-toggleable__label {background-color: #d4ebff;}#sk-container-id-1 div.sk-serial::before {content: \"\";position: absolute;border-left: 1px solid gray;box-sizing: border-box;top: 0;bottom: 0;left: 50%;z-index: 0;}#sk-container-id-1 div.sk-serial {display: flex;flex-direction: column;align-items: center;background-color: white;padding-right: 0.2em;padding-left: 0.2em;position: relative;}#sk-container-id-1 div.sk-item {position: relative;z-index: 1;}#sk-container-id-1 div.sk-parallel {display: flex;align-items: stretch;justify-content: center;background-color: white;position: relative;}#sk-container-id-1 div.sk-item::before, #sk-container-id-1 div.sk-parallel-item::before {content: \"\";position: absolute;border-left: 1px solid gray;box-sizing: border-box;top: 0;bottom: 0;left: 50%;z-index: -1;}#sk-container-id-1 div.sk-parallel-item {display: flex;flex-direction: column;z-index: 1;position: relative;background-color: white;}#sk-container-id-1 div.sk-parallel-item:first-child::after {align-self: flex-end;width: 50%;}#sk-container-id-1 div.sk-parallel-item:last-child::after {align-self: flex-start;width: 50%;}#sk-container-id-1 div.sk-parallel-item:only-child::after {width: 0;}#sk-container-id-1 div.sk-dashed-wrapped {border: 1px dashed gray;margin: 0 0.4em 0.5em 0.4em;box-sizing: border-box;padding-bottom: 0.4em;background-color: white;}#sk-container-id-1 div.sk-label label {font-family: monospace;font-weight: bold;display: inline-block;line-height: 1.2em;}#sk-container-id-1 div.sk-label-container {text-align: center;}#sk-container-id-1 div.sk-container {/* jupyter's `normalize.less` sets `[hidden] { display: none; }` but bootstrap.min.css set `[hidden] { display: none !important; }` so we also need the `!important` here to be able to override the default hidden behavior on the sphinx rendered scikit-learn.org. See: https://github.com/scikit-learn/scikit-learn/issues/21755 */display: inline-block !important;position: relative;}#sk-container-id-1 div.sk-text-repr-fallback {display: none;}</style><div id=\"sk-container-id-1\" class=\"sk-top-container\"><div class=\"sk-text-repr-fallback\"><pre>Pipeline(steps=[(&#x27;ct&#x27;,\n",
       "                 ColumnTransformer(remainder=&#x27;passthrough&#x27;, sparse_threshold=0,\n",
       "                                   transformers=[(&#x27;cat&#x27;, OneHotEncoder(),\n",
       "                                                  [&#x27;country&#x27;])]))])</pre><b>In a Jupyter environment, please rerun this cell to show the HTML representation or trust the notebook. <br />On GitHub, the HTML representation is unable to render, please try loading this page with nbviewer.org.</b></div><div class=\"sk-container\" hidden><div class=\"sk-item sk-dashed-wrapped\"><div class=\"sk-label-container\"><div class=\"sk-label sk-toggleable\"><input class=\"sk-toggleable__control sk-hidden--visually\" id=\"sk-estimator-id-1\" type=\"checkbox\" ><label for=\"sk-estimator-id-1\" class=\"sk-toggleable__label sk-toggleable__label-arrow\">Pipeline</label><div class=\"sk-toggleable__content\"><pre>Pipeline(steps=[(&#x27;ct&#x27;,\n",
       "                 ColumnTransformer(remainder=&#x27;passthrough&#x27;, sparse_threshold=0,\n",
       "                                   transformers=[(&#x27;cat&#x27;, OneHotEncoder(),\n",
       "                                                  [&#x27;country&#x27;])]))])</pre></div></div></div><div class=\"sk-serial\"><div class=\"sk-item sk-dashed-wrapped\"><div class=\"sk-label-container\"><div class=\"sk-label sk-toggleable\"><input class=\"sk-toggleable__control sk-hidden--visually\" id=\"sk-estimator-id-2\" type=\"checkbox\" ><label for=\"sk-estimator-id-2\" class=\"sk-toggleable__label sk-toggleable__label-arrow\">ct: ColumnTransformer</label><div class=\"sk-toggleable__content\"><pre>ColumnTransformer(remainder=&#x27;passthrough&#x27;, sparse_threshold=0,\n",
       "                  transformers=[(&#x27;cat&#x27;, OneHotEncoder(), [&#x27;country&#x27;])])</pre></div></div></div><div class=\"sk-parallel\"><div class=\"sk-parallel-item\"><div class=\"sk-item\"><div class=\"sk-label-container\"><div class=\"sk-label sk-toggleable\"><input class=\"sk-toggleable__control sk-hidden--visually\" id=\"sk-estimator-id-3\" type=\"checkbox\" ><label for=\"sk-estimator-id-3\" class=\"sk-toggleable__label sk-toggleable__label-arrow\">cat</label><div class=\"sk-toggleable__content\"><pre>[&#x27;country&#x27;]</pre></div></div></div><div class=\"sk-serial\"><div class=\"sk-item\"><div class=\"sk-estimator sk-toggleable\"><input class=\"sk-toggleable__control sk-hidden--visually\" id=\"sk-estimator-id-4\" type=\"checkbox\" ><label for=\"sk-estimator-id-4\" class=\"sk-toggleable__label sk-toggleable__label-arrow\">OneHotEncoder</label><div class=\"sk-toggleable__content\"><pre>OneHotEncoder()</pre></div></div></div></div></div></div><div class=\"sk-parallel-item\"><div class=\"sk-item\"><div class=\"sk-label-container\"><div class=\"sk-label sk-toggleable\"><input class=\"sk-toggleable__control sk-hidden--visually\" id=\"sk-estimator-id-5\" type=\"checkbox\" ><label for=\"sk-estimator-id-5\" class=\"sk-toggleable__label sk-toggleable__label-arrow\">remainder</label><div class=\"sk-toggleable__content\"><pre>[&#x27;year&#x27;]</pre></div></div></div><div class=\"sk-serial\"><div class=\"sk-item\"><div class=\"sk-estimator sk-toggleable\"><input class=\"sk-toggleable__control sk-hidden--visually\" id=\"sk-estimator-id-6\" type=\"checkbox\" ><label for=\"sk-estimator-id-6\" class=\"sk-toggleable__label sk-toggleable__label-arrow\">passthrough</label><div class=\"sk-toggleable__content\"><pre>passthrough</pre></div></div></div></div></div></div></div></div></div></div></div></div>"
      ],
      "text/plain": [
       "Pipeline(steps=[('ct',\n",
       "                 ColumnTransformer(remainder='passthrough', sparse_threshold=0,\n",
       "                                   transformers=[('cat', OneHotEncoder(),\n",
       "                                                  ['country'])]))])"
      ]
     },
     "execution_count": 10,
     "metadata": {},
     "output_type": "execute_result"
    }
   ],
   "source": [
    "ct = ColumnTransformer([('cat', OneHotEncoder(), ['country'])], remainder='passthrough', sparse_threshold=0)\n",
    "\n",
    "prep_pipe = Pipeline([\n",
    "    ('ct', ct),\n",
    "])\n",
    "\n",
    "prep_pipe.fit(featured_df.iloc[:,:-1])"
   ]
  },
  {
   "cell_type": "markdown",
   "id": "88757d59",
   "metadata": {},
   "source": [
    "# Models For Featured Data"
   ]
  },
  {
   "cell_type": "markdown",
   "id": "ff891a81",
   "metadata": {},
   "source": [
    "## Train/Val Split"
   ]
  },
  {
   "cell_type": "code",
   "execution_count": 11,
   "id": "e5859486",
   "metadata": {},
   "outputs": [],
   "source": [
    "if cfg.is_validation_phase:\n",
    "    ds_train_f = featured_df.loc[featured_df.year<cfg.split_date]\n",
    "    x_train_f = ds_train_f.iloc[:,:-1]\n",
    "    x_train_f = prep_pipe.transform(x_train_f)\n",
    "    y_train_f = ds_train_f.iloc[:,-1].values\n",
    "    \n",
    "    ds_val_f = featured_df.loc[featured_df.year>=cfg.split_date]\n",
    "    x_val_f = ds_val_f.iloc[:,:-1]\n",
    "    x_val_f = prep_pipe.transform(x_val_f)\n",
    "    y_val_f = ds_val_f.iloc[:,-1]\n",
    "    \n",
    "else:\n",
    "    ds_train_f = featured_df\n",
    "    x_train_f = ds_train_f.iloc[:,:-1]\n",
    "    x_train_f = prep_pipe.transform(x_train_f)\n",
    "    y_train_f = ds_train_f.iloc[:,-1].values\n",
    "    "
   ]
  },
  {
   "cell_type": "code",
   "execution_count": 12,
   "id": "9a6dba9e",
   "metadata": {},
   "outputs": [
    {
     "data": {
      "text/plain": [
       "(37, 2)"
      ]
     },
     "execution_count": 12,
     "metadata": {},
     "output_type": "execute_result"
    }
   ],
   "source": [
    "x_train_f.shape"
   ]
  },
  {
   "cell_type": "markdown",
   "id": "3c7c5b11",
   "metadata": {},
   "source": [
    "## Regression"
   ]
  },
  {
   "cell_type": "code",
   "execution_count": 13,
   "id": "3b439b1a",
   "metadata": {},
   "outputs": [],
   "source": [
    "# model config\n",
    "if cfg.is_validation_phase:\n",
    "    eval_set = [(x_train_f, y_train_f), (x_val_f, y_val_f)]\n",
    "else:\n",
    "    eval_set = [(x_train_f, y_train_f)]\n",
    "\n",
    "REG_model = LinearRegression()"
   ]
  },
  {
   "cell_type": "code",
   "execution_count": 14,
   "id": "a3182e1f",
   "metadata": {
    "scrolled": true
   },
   "outputs": [
    {
     "data": {
      "text/html": [
       "<style>#sk-container-id-2 {color: black;background-color: white;}#sk-container-id-2 pre{padding: 0;}#sk-container-id-2 div.sk-toggleable {background-color: white;}#sk-container-id-2 label.sk-toggleable__label {cursor: pointer;display: block;width: 100%;margin-bottom: 0;padding: 0.3em;box-sizing: border-box;text-align: center;}#sk-container-id-2 label.sk-toggleable__label-arrow:before {content: \"▸\";float: left;margin-right: 0.25em;color: #696969;}#sk-container-id-2 label.sk-toggleable__label-arrow:hover:before {color: black;}#sk-container-id-2 div.sk-estimator:hover label.sk-toggleable__label-arrow:before {color: black;}#sk-container-id-2 div.sk-toggleable__content {max-height: 0;max-width: 0;overflow: hidden;text-align: left;background-color: #f0f8ff;}#sk-container-id-2 div.sk-toggleable__content pre {margin: 0.2em;color: black;border-radius: 0.25em;background-color: #f0f8ff;}#sk-container-id-2 input.sk-toggleable__control:checked~div.sk-toggleable__content {max-height: 200px;max-width: 100%;overflow: auto;}#sk-container-id-2 input.sk-toggleable__control:checked~label.sk-toggleable__label-arrow:before {content: \"▾\";}#sk-container-id-2 div.sk-estimator input.sk-toggleable__control:checked~label.sk-toggleable__label {background-color: #d4ebff;}#sk-container-id-2 div.sk-label input.sk-toggleable__control:checked~label.sk-toggleable__label {background-color: #d4ebff;}#sk-container-id-2 input.sk-hidden--visually {border: 0;clip: rect(1px 1px 1px 1px);clip: rect(1px, 1px, 1px, 1px);height: 1px;margin: -1px;overflow: hidden;padding: 0;position: absolute;width: 1px;}#sk-container-id-2 div.sk-estimator {font-family: monospace;background-color: #f0f8ff;border: 1px dotted black;border-radius: 0.25em;box-sizing: border-box;margin-bottom: 0.5em;}#sk-container-id-2 div.sk-estimator:hover {background-color: #d4ebff;}#sk-container-id-2 div.sk-parallel-item::after {content: \"\";width: 100%;border-bottom: 1px solid gray;flex-grow: 1;}#sk-container-id-2 div.sk-label:hover label.sk-toggleable__label {background-color: #d4ebff;}#sk-container-id-2 div.sk-serial::before {content: \"\";position: absolute;border-left: 1px solid gray;box-sizing: border-box;top: 0;bottom: 0;left: 50%;z-index: 0;}#sk-container-id-2 div.sk-serial {display: flex;flex-direction: column;align-items: center;background-color: white;padding-right: 0.2em;padding-left: 0.2em;position: relative;}#sk-container-id-2 div.sk-item {position: relative;z-index: 1;}#sk-container-id-2 div.sk-parallel {display: flex;align-items: stretch;justify-content: center;background-color: white;position: relative;}#sk-container-id-2 div.sk-item::before, #sk-container-id-2 div.sk-parallel-item::before {content: \"\";position: absolute;border-left: 1px solid gray;box-sizing: border-box;top: 0;bottom: 0;left: 50%;z-index: -1;}#sk-container-id-2 div.sk-parallel-item {display: flex;flex-direction: column;z-index: 1;position: relative;background-color: white;}#sk-container-id-2 div.sk-parallel-item:first-child::after {align-self: flex-end;width: 50%;}#sk-container-id-2 div.sk-parallel-item:last-child::after {align-self: flex-start;width: 50%;}#sk-container-id-2 div.sk-parallel-item:only-child::after {width: 0;}#sk-container-id-2 div.sk-dashed-wrapped {border: 1px dashed gray;margin: 0 0.4em 0.5em 0.4em;box-sizing: border-box;padding-bottom: 0.4em;background-color: white;}#sk-container-id-2 div.sk-label label {font-family: monospace;font-weight: bold;display: inline-block;line-height: 1.2em;}#sk-container-id-2 div.sk-label-container {text-align: center;}#sk-container-id-2 div.sk-container {/* jupyter's `normalize.less` sets `[hidden] { display: none; }` but bootstrap.min.css set `[hidden] { display: none !important; }` so we also need the `!important` here to be able to override the default hidden behavior on the sphinx rendered scikit-learn.org. See: https://github.com/scikit-learn/scikit-learn/issues/21755 */display: inline-block !important;position: relative;}#sk-container-id-2 div.sk-text-repr-fallback {display: none;}</style><div id=\"sk-container-id-2\" class=\"sk-top-container\"><div class=\"sk-text-repr-fallback\"><pre>LinearRegression()</pre><b>In a Jupyter environment, please rerun this cell to show the HTML representation or trust the notebook. <br />On GitHub, the HTML representation is unable to render, please try loading this page with nbviewer.org.</b></div><div class=\"sk-container\" hidden><div class=\"sk-item\"><div class=\"sk-estimator sk-toggleable\"><input class=\"sk-toggleable__control sk-hidden--visually\" id=\"sk-estimator-id-7\" type=\"checkbox\" checked><label for=\"sk-estimator-id-7\" class=\"sk-toggleable__label sk-toggleable__label-arrow\">LinearRegression</label><div class=\"sk-toggleable__content\"><pre>LinearRegression()</pre></div></div></div></div></div>"
      ],
      "text/plain": [
       "LinearRegression()"
      ]
     },
     "execution_count": 14,
     "metadata": {},
     "output_type": "execute_result"
    }
   ],
   "source": [
    "REG_model.fit(x_train_f, y_train_f)"
   ]
  },
  {
   "cell_type": "code",
   "execution_count": 15,
   "id": "5a22f8be",
   "metadata": {},
   "outputs": [],
   "source": [
    "REG_pipe = Pipeline([\n",
    "    ('preprocess', prep_pipe),\n",
    "    ('REG', REG_model)\n",
    "])"
   ]
  },
  {
   "cell_type": "code",
   "execution_count": 16,
   "id": "98117209",
   "metadata": {},
   "outputs": [],
   "source": [
    "pred_all = REG_pipe.predict(featured_df)\n",
    "pred_train = REG_model.predict(x_train_f)\n",
    "if cfg.is_validation_phase:\n",
    "    pred_val = REG_model.predict(x_val_f)\n",
    "\n",
    "if cfg.is_validation_phase:\n",
    "    pred = {'all':pred_all, 'train':pred_train, 'val':pred_val}\n",
    "    y_true = {'all':featured_df.emission.values, 'train':y_train_f, 'val':y_val_f}\n",
    "else:\n",
    "    pred = {'all':pred_all, 'train':pred_train}\n",
    "    y_true = {'all':featured_df.emission.values, 'train':y_train_f}\n",
    "\n",
    "results_metrics = pd.DataFrame()\n",
    "results_metrics['r2_score'] = [r2_score(y_true[i], pred[i]) for i in pred]\n",
    "results_metrics['mae'] = [mean_absolute_error(y_true[i], pred[i]) for i in pred]\n",
    "results_metrics['mse'] = [mean_squared_error(y_true[i], pred[i]) for i in pred]\n",
    "results_metrics['rmse'] = [np.sqrt(mean_squared_error(y_true[i], pred[i])) for i in pred]\n",
    "results_metrics.index = [i for i in pred]"
   ]
  },
  {
   "cell_type": "code",
   "execution_count": 17,
   "id": "de3f533e",
   "metadata": {},
   "outputs": [
    {
     "data": {
      "text/html": [
       "<div>\n",
       "<style scoped>\n",
       "    .dataframe tbody tr th:only-of-type {\n",
       "        vertical-align: middle;\n",
       "    }\n",
       "\n",
       "    .dataframe tbody tr th {\n",
       "        vertical-align: top;\n",
       "    }\n",
       "\n",
       "    .dataframe thead th {\n",
       "        text-align: right;\n",
       "    }\n",
       "</style>\n",
       "<table border=\"1\" class=\"dataframe\">\n",
       "  <thead>\n",
       "    <tr style=\"text-align: right;\">\n",
       "      <th></th>\n",
       "      <th>r2_score</th>\n",
       "      <th>mae</th>\n",
       "      <th>mse</th>\n",
       "      <th>rmse</th>\n",
       "    </tr>\n",
       "  </thead>\n",
       "  <tbody>\n",
       "    <tr>\n",
       "      <th>all</th>\n",
       "      <td>0.924518</td>\n",
       "      <td>22.687648</td>\n",
       "      <td>1070.013380</td>\n",
       "      <td>32.711059</td>\n",
       "    </tr>\n",
       "    <tr>\n",
       "      <th>train</th>\n",
       "      <td>0.959917</td>\n",
       "      <td>17.133933</td>\n",
       "      <td>545.641560</td>\n",
       "      <td>23.358972</td>\n",
       "    </tr>\n",
       "    <tr>\n",
       "      <th>val</th>\n",
       "      <td>-18.788643</td>\n",
       "      <td>74.059520</td>\n",
       "      <td>5920.452708</td>\n",
       "      <td>76.944478</td>\n",
       "    </tr>\n",
       "  </tbody>\n",
       "</table>\n",
       "</div>"
      ],
      "text/plain": [
       "        r2_score        mae          mse       rmse\n",
       "all     0.924518  22.687648  1070.013380  32.711059\n",
       "train   0.959917  17.133933   545.641560  23.358972\n",
       "val   -18.788643  74.059520  5920.452708  76.944478"
      ]
     },
     "execution_count": 17,
     "metadata": {},
     "output_type": "execute_result"
    }
   ],
   "source": [
    "results_metrics"
   ]
  },
  {
   "cell_type": "code",
   "execution_count": 18,
   "id": "5c26bc66",
   "metadata": {
    "scrolled": true
   },
   "outputs": [
    {
     "data": {
      "image/png": "[encoded data removed]",
      "text/plain": [
       "<Figure size 1500x500 with 1 Axes>"
      ]
     },
     "metadata": {},
     "output_type": "display_data"
    }
   ],
   "source": [
    "for col in df.columns[1:]:\n",
    "    data = featured_df.loc[featured_df.country==col]\n",
    "    a = REG_pipe.predict(data.iloc[:,:-1])\n",
    "    plt.figure(figsize=(15,5))\n",
    "    plt.title(col)\n",
    "    plt.plot(data.year, data.emission, color='b', marker='.')\n",
    "    plt.plot(data.year, a, color='r', marker='.')\n",
    "    if cfg.is_validation_phase:\n",
    "        plt.axvline(x=cfg.split_date, color='black', ls='--')\n",
    "    plt.legend(['True', 'Pred'])\n",
    "    plt.show()"
   ]
  },
  {
   "cell_type": "code",
   "execution_count": null,
   "id": "addffdaf",
   "metadata": {},
   "outputs": [],
   "source": []
  },
  {
   "cell_type": "markdown",
   "id": "9b0244c3",
   "metadata": {},
   "source": [
    "# Models for Time-Series Data"
   ]
  },
  {
   "cell_type": "markdown",
   "id": "970e192b",
   "metadata": {},
   "source": [
    "## Train/Val Split"
   ]
  },
  {
   "cell_type": "code",
   "execution_count": 19,
   "id": "ca9c5b40",
   "metadata": {},
   "outputs": [],
   "source": [
    "window_size = 10"
   ]
  },
  {
   "cell_type": "code",
   "execution_count": 20,
   "id": "643538bc",
   "metadata": {},
   "outputs": [],
   "source": [
    "temp_ds = tf.data.Dataset.from_tensor_slices(grouped_df.values)\n",
    "temp_ds = temp_ds.window(size=window_size, drop_remainder=True, shift=1)\n",
    "temp_ds = temp_ds.flat_map(lambda window: window.batch(window_size))\n",
    "temp_ds = temp_ds.map(lambda window: (window[:-1], window[-1]))\n",
    "\n",
    "feat = []\n",
    "labels = []\n",
    "for x,y in temp_ds:\n",
    "    feat.append(x.numpy())\n",
    "    labels.append(y.numpy())\n",
    "feat = np.array(feat)\n",
    "labels = np.array(labels)\n",
    "idx = df.loc[grouped_df.index == cfg.split_date].index.values-df.shape[0]"
   ]
  },
  {
   "cell_type": "code",
   "execution_count": 21,
   "id": "69b2bd2a",
   "metadata": {},
   "outputs": [],
   "source": [
    "if cfg.is_validation_phase:\n",
    "    x_train_ts = feat[:idx[0]].reshape(-1, window_size-1)\n",
    "    y_train_ts = labels[:idx[0]]\n",
    "\n",
    "    x_val_ts = feat[idx[0]:].reshape(-1, window_size-1)\n",
    "    y_val_ts = labels[idx[0]:]\n",
    "else:\n",
    "    x_train_ts = feat.reshape(-1, window_size-1)\n",
    "    y_train_ts = labels"
   ]
  },
  {
   "cell_type": "code",
   "execution_count": 22,
   "id": "67a1c183",
   "metadata": {},
   "outputs": [
    {
     "data": {
      "text/plain": [
       "((28, 9), (28, 1))"
      ]
     },
     "execution_count": 22,
     "metadata": {},
     "output_type": "execute_result"
    }
   ],
   "source": [
    "x_train_ts.shape, y_train_ts.shape"
   ]
  },
  {
   "cell_type": "markdown",
   "id": "f25d1858",
   "metadata": {},
   "source": [
    "## LSTM NN"
   ]
  },
  {
   "cell_type": "code",
   "execution_count": 31,
   "id": "5b41840b",
   "metadata": {},
   "outputs": [
    {
     "name": "stdout",
     "output_type": "stream",
     "text": [
      "WARNING:tensorflow:Layer lstm will not use cuDNN kernels since it doesn't meet the criteria. It will use a generic GPU kernel as fallback when running on GPU.\n"
     ]
    }
   ],
   "source": [
    "# config\n",
    "tf.keras.backend.clear_session()\n",
    "\n",
    "es = tf.keras.callbacks.EarlyStopping(\n",
    "    monitor='val_loss',\n",
    "    min_delta=0,\n",
    "    patience=50,\n",
    "    verbose=0,\n",
    "    mode='auto',\n",
    "    baseline=None,\n",
    "    restore_best_weights=True\n",
    ")\n",
    "\n",
    "if cfg.is_validation_phase:\n",
    "    validation_data = (x_val_ts, y_val_ts)\n",
    "else:\n",
    "    validation_data = None\n",
    "\n",
    "# model\n",
    "LSTM_model = Sequential([\n",
    "    layers.LSTM(16, return_sequences=False, input_shape=(window_size-1,1), activation='relu'),\n",
    "    #layers.LSTM(64, return_sequences=False, activation='relu'),\n",
    "    #layers.Dense(4, activation='relu'),\n",
    "    layers.Dense(1, activation='linear'),\n",
    "])\n",
    "\n"
   ]
  },
  {
   "cell_type": "code",
   "execution_count": 32,
   "id": "7f33b192",
   "metadata": {},
   "outputs": [],
   "source": [
    "LSTM_model.compile(loss='mse', optimizer=optimizers.Adam(0.01), metrics=['mean_absolute_error'])"
   ]
  },
  {
   "cell_type": "code",
   "execution_count": 33,
   "id": "78c2705e",
   "metadata": {},
   "outputs": [
    {
     "name": "stdout",
     "output_type": "stream",
     "text": [
      "Epoch 1/5000\n",
      "1/1 [==============================] - 1s 1s/step - loss: 165162.6094 - mean_absolute_error: 392.8071 - val_loss: 243474.2031 - val_mean_absolute_error: 493.1436\n",
      "Epoch 2/5000\n",
      "1/1 [==============================] - 0s 63ms/step - loss: 158017.2812 - mean_absolute_error: 383.2876 - val_loss: 141266.3125 - val_mean_absolute_error: 375.4479\n",
      "Epoch 3/5000\n",
      "1/1 [==============================] - 0s 57ms/step - loss: 107262.9219 - mean_absolute_error: 316.6160 - val_loss: 109279.3125 - val_mean_absolute_error: 330.0916\n",
      "Epoch 4/5000\n",
      "1/1 [==============================] - 0s 54ms/step - loss: 88025.0781 - mean_absolute_error: 286.7414 - val_loss: 83335.6719 - val_mean_absolute_error: 288.1049\n",
      "Epoch 5/5000\n",
      "1/1 [==============================] - 0s 76ms/step - loss: 72407.6953 - mean_absolute_error: 259.8779 - val_loss: 58150.9453 - val_mean_absolute_error: 240.4247\n",
      "Epoch 6/5000\n",
      "1/1 [==============================] - 0s 72ms/step - loss: 56793.9805 - mean_absolute_error: 229.9547 - val_loss: 35137.5938 - val_mean_absolute_error: 186.4834\n",
      "Epoch 7/5000\n",
      "1/1 [==============================] - 0s 66ms/step - loss: 41471.2188 - mean_absolute_error: 196.1539 - val_loss: 15071.2812 - val_mean_absolute_error: 121.0795\n",
      "Epoch 8/5000\n",
      "1/1 [==============================] - 0s 65ms/step - loss: 26698.9277 - mean_absolute_error: 156.8214 - val_loss: 1688.7594 - val_mean_absolute_error: 35.4216\n",
      "Epoch 9/5000\n",
      "1/1 [==============================] - 0s 61ms/step - loss: 13085.7705 - mean_absolute_error: 108.2617 - val_loss: 7625.2861 - val_mean_absolute_error: 84.3828\n",
      "Epoch 10/5000\n",
      "1/1 [==============================] - 0s 61ms/step - loss: 2482.3823 - mean_absolute_error: 40.2403 - val_loss: 37481.2109 - val_mean_absolute_error: 191.8770\n",
      "Epoch 11/5000\n",
      "1/1 [==============================] - 0s 67ms/step - loss: 2221.3254 - mean_absolute_error: 35.5545 - val_loss: 68931.2344 - val_mean_absolute_error: 259.8259\n",
      "Epoch 12/5000\n",
      "1/1 [==============================] - 0s 60ms/step - loss: 8785.0166 - mean_absolute_error: 87.2288 - val_loss: 57813.2578 - val_mean_absolute_error: 239.2037\n",
      "Epoch 13/5000\n",
      "1/1 [==============================] - 0s 55ms/step - loss: 7806.0913 - mean_absolute_error: 81.0164 - val_loss: 34968.8008 - val_mean_absolute_error: 185.4979\n",
      "Epoch 14/5000\n",
      "1/1 [==============================] - 0s 56ms/step - loss: 6542.8247 - mean_absolute_error: 73.0858 - val_loss: 22080.4531 - val_mean_absolute_error: 146.7034\n",
      "Epoch 15/5000\n",
      "1/1 [==============================] - 0s 60ms/step - loss: 4619.9985 - mean_absolute_error: 62.6283 - val_loss: 15973.8916 - val_mean_absolute_error: 124.0766\n",
      "Epoch 16/5000\n",
      "1/1 [==============================] - 0s 59ms/step - loss: 756.8478 - mean_absolute_error: 17.4809 - val_loss: 32371.8105 - val_mean_absolute_error: 157.5737\n",
      "Epoch 17/5000\n",
      "1/1 [==============================] - 0s 58ms/step - loss: 1393.0011 - mean_absolute_error: 28.6215 - val_loss: 37624.1250 - val_mean_absolute_error: 180.1429\n",
      "Epoch 18/5000\n",
      "1/1 [==============================] - 0s 55ms/step - loss: 1934.4373 - mean_absolute_error: 37.3347 - val_loss: 73249.8672 - val_mean_absolute_error: 269.8494\n",
      "Epoch 19/5000\n",
      "1/1 [==============================] - 0s 53ms/step - loss: 4265.2725 - mean_absolute_error: 49.0645 - val_loss: 39746.5000 - val_mean_absolute_error: 177.1909\n",
      "Epoch 20/5000\n",
      "1/1 [==============================] - 0s 58ms/step - loss: 2500.1970 - mean_absolute_error: 40.0559 - val_loss: 6114.5415 - val_mean_absolute_error: 68.9051\n",
      "Epoch 21/5000\n",
      "1/1 [==============================] - 0s 56ms/step - loss: 19535.8418 - mean_absolute_error: 131.5862 - val_loss: 18539.3203 - val_mean_absolute_error: 84.3218\n",
      "Epoch 22/5000\n",
      "1/1 [==============================] - 0s 62ms/step - loss: 8487.7949 - mean_absolute_error: 80.4335 - val_loss: 46274.7383 - val_mean_absolute_error: 165.6308\n",
      "Epoch 23/5000\n",
      "1/1 [==============================] - 0s 78ms/step - loss: 11544.1318 - mean_absolute_error: 94.9522 - val_loss: 129403.4453 - val_mean_absolute_error: 357.1803\n",
      "Epoch 24/5000\n",
      "1/1 [==============================] - 0s 70ms/step - loss: 21397.6387 - mean_absolute_error: 137.0537 - val_loss: 163142.7969 - val_mean_absolute_error: 401.0700\n",
      "Epoch 25/5000\n",
      "1/1 [==============================] - 0s 53ms/step - loss: 25418.7461 - mean_absolute_error: 149.5271 - val_loss: 105921.2578 - val_mean_absolute_error: 322.2250\n",
      "Epoch 26/5000\n",
      "1/1 [==============================] - 0s 55ms/step - loss: 13905.5469 - mean_absolute_error: 105.4852 - val_loss: 34601.6914 - val_mean_absolute_error: 172.2661\n",
      "Epoch 27/5000\n",
      "1/1 [==============================] - 0s 56ms/step - loss: 2668.8862 - mean_absolute_error: 35.6750 - val_loss: 7125.1182 - val_mean_absolute_error: 78.0950\n",
      "Epoch 28/5000\n",
      "1/1 [==============================] - 0s 54ms/step - loss: 18763.3750 - mean_absolute_error: 124.0128 - val_loss: 9242.8447 - val_mean_absolute_error: 88.1064\n",
      "Epoch 29/5000\n",
      "1/1 [==============================] - 0s 54ms/step - loss: 8600.5576 - mean_absolute_error: 85.7028 - val_loss: 7468.6172 - val_mean_absolute_error: 80.7098\n",
      "Epoch 30/5000\n",
      "1/1 [==============================] - 0s 56ms/step - loss: 2302.4299 - mean_absolute_error: 39.2227 - val_loss: 7134.0688 - val_mean_absolute_error: 76.8638\n",
      "Epoch 31/5000\n",
      "1/1 [==============================] - 0s 62ms/step - loss: 828.7001 - mean_absolute_error: 23.3744 - val_loss: 16965.3945 - val_mean_absolute_error: 126.5595\n",
      "Epoch 32/5000\n",
      "1/1 [==============================] - 0s 64ms/step - loss: 1580.5520 - mean_absolute_error: 28.5969 - val_loss: 25887.1406 - val_mean_absolute_error: 154.7453\n",
      "Epoch 33/5000\n",
      "1/1 [==============================] - 0s 58ms/step - loss: 1783.9553 - mean_absolute_error: 35.4306 - val_loss: 21417.9805 - val_mean_absolute_error: 139.5580\n",
      "Epoch 34/5000\n",
      "1/1 [==============================] - 0s 59ms/step - loss: 1805.2474 - mean_absolute_error: 31.0676 - val_loss: 26732.0586 - val_mean_absolute_error: 153.4053\n",
      "Epoch 35/5000\n",
      "1/1 [==============================] - 0s 57ms/step - loss: 1838.8601 - mean_absolute_error: 28.1681 - val_loss: 22152.0977 - val_mean_absolute_error: 140.6064\n",
      "Epoch 36/5000\n",
      "1/1 [==============================] - 0s 58ms/step - loss: 1283.6119 - mean_absolute_error: 24.8250 - val_loss: 21088.9785 - val_mean_absolute_error: 140.5379\n",
      "Epoch 37/5000\n",
      "1/1 [==============================] - 0s 62ms/step - loss: 503.2632 - mean_absolute_error: 17.6078 - val_loss: 9463.2578 - val_mean_absolute_error: 93.7239\n",
      "Epoch 38/5000\n",
      "1/1 [==============================] - 0s 54ms/step - loss: 736.4411 - mean_absolute_error: 21.3615 - val_loss: 8828.1465 - val_mean_absolute_error: 91.6794\n",
      "Epoch 39/5000\n",
      "1/1 [==============================] - 0s 54ms/step - loss: 1722.2283 - mean_absolute_error: 31.9034 - val_loss: 9573.5117 - val_mean_absolute_error: 86.8234\n",
      "Epoch 40/5000\n",
      "1/1 [==============================] - 0s 52ms/step - loss: 1679.7433 - mean_absolute_error: 32.8114 - val_loss: 9698.7334 - val_mean_absolute_error: 86.4866\n",
      "Epoch 41/5000\n",
      "1/1 [==============================] - 0s 61ms/step - loss: 1363.1018 - mean_absolute_error: 29.6754 - val_loss: 10122.1816 - val_mean_absolute_error: 91.0850\n",
      "Epoch 42/5000\n",
      "1/1 [==============================] - 0s 61ms/step - loss: 1289.3184 - mean_absolute_error: 29.1488 - val_loss: 9113.9600 - val_mean_absolute_error: 86.0271\n",
      "Epoch 43/5000\n",
      "1/1 [==============================] - 0s 71ms/step - loss: 1269.4655 - mean_absolute_error: 29.9062 - val_loss: 9133.8516 - val_mean_absolute_error: 90.5608\n",
      "Epoch 44/5000\n",
      "1/1 [==============================] - 0s 51ms/step - loss: 1363.4969 - mean_absolute_error: 29.6931 - val_loss: 9361.9404 - val_mean_absolute_error: 93.2775\n",
      "Epoch 45/5000\n",
      "1/1 [==============================] - 0s 52ms/step - loss: 1402.8438 - mean_absolute_error: 29.5086 - val_loss: 10113.6250 - val_mean_absolute_error: 97.4335\n",
      "Epoch 46/5000\n",
      "1/1 [==============================] - 0s 52ms/step - loss: 1213.7961 - mean_absolute_error: 27.5995 - val_loss: 11234.5283 - val_mean_absolute_error: 103.0535\n",
      "Epoch 47/5000\n",
      "1/1 [==============================] - 0s 53ms/step - loss: 1060.5680 - mean_absolute_error: 25.6640 - val_loss: 12545.1631 - val_mean_absolute_error: 109.1463\n",
      "Epoch 48/5000\n"
     ]
    },
    {
     "name": "stdout",
     "output_type": "stream",
     "text": [
      "1/1 [==============================] - 0s 54ms/step - loss: 885.5146 - mean_absolute_error: 24.0215 - val_loss: 13519.1289 - val_mean_absolute_error: 113.5812\n",
      "Epoch 49/5000\n",
      "1/1 [==============================] - 0s 52ms/step - loss: 784.4166 - mean_absolute_error: 22.9929 - val_loss: 15005.9883 - val_mean_absolute_error: 119.9728\n",
      "Epoch 50/5000\n",
      "1/1 [==============================] - 0s 54ms/step - loss: 730.8740 - mean_absolute_error: 22.1003 - val_loss: 16791.5059 - val_mean_absolute_error: 127.1841\n",
      "Epoch 51/5000\n",
      "1/1 [==============================] - 0s 58ms/step - loss: 737.9785 - mean_absolute_error: 21.2260 - val_loss: 18404.1543 - val_mean_absolute_error: 133.3616\n",
      "Epoch 52/5000\n",
      "1/1 [==============================] - 0s 57ms/step - loss: 797.6845 - mean_absolute_error: 21.1030 - val_loss: 19696.3125 - val_mean_absolute_error: 138.1122\n",
      "Epoch 53/5000\n",
      "1/1 [==============================] - 0s 56ms/step - loss: 868.8271 - mean_absolute_error: 21.5079 - val_loss: 20530.1992 - val_mean_absolute_error: 141.0960\n",
      "Epoch 54/5000\n",
      "1/1 [==============================] - 0s 54ms/step - loss: 895.9537 - mean_absolute_error: 21.6779 - val_loss: 20813.4023 - val_mean_absolute_error: 142.0987\n",
      "Epoch 55/5000\n",
      "1/1 [==============================] - 0s 54ms/step - loss: 879.3912 - mean_absolute_error: 21.3740 - val_loss: 20793.4531 - val_mean_absolute_error: 142.0324\n",
      "Epoch 56/5000\n",
      "1/1 [==============================] - 0s 53ms/step - loss: 836.7651 - mean_absolute_error: 20.6693 - val_loss: 20123.1719 - val_mean_absolute_error: 139.6693\n",
      "Epoch 57/5000\n",
      "1/1 [==============================] - 0s 56ms/step - loss: 743.3955 - mean_absolute_error: 19.4401 - val_loss: 19231.9023 - val_mean_absolute_error: 136.4613\n",
      "Epoch 58/5000\n",
      "1/1 [==============================] - 0s 69ms/step - loss: 682.9570 - mean_absolute_error: 19.3441 - val_loss: 18731.7812 - val_mean_absolute_error: 134.5644\n"
     ]
    }
   ],
   "source": [
    "\n",
    "history = LSTM_model.fit(x_train_ts, y_train_ts, \n",
    "                        validation_data =validation_data, \n",
    "                        epochs=5000, \n",
    "                        callbacks=[es]\n",
    "                       )"
   ]
  },
  {
   "cell_type": "code",
   "execution_count": 34,
   "id": "e4ebc31c",
   "metadata": {},
   "outputs": [
    {
     "name": "stdout",
     "output_type": "stream",
     "text": [
      "1/1 [==============================] - 0s 171ms/step\n",
      "1/1 [==============================] - 0s 171ms/step\n",
      "1/1 [==============================] - 0s 25ms/step\n"
     ]
    }
   ],
   "source": [
    "pred_all = LSTM_model.predict(feat.reshape(-1, window_size-1))\n",
    "pred_train = LSTM_model.predict(x_train_ts)\n",
    "if cfg.is_validation_phase:\n",
    "    pred_val = LSTM_model.predict(x_val_ts)\n",
    "if cfg.is_validation_phase:\n",
    "    pred = {'all':pred_all, 'train':pred_train, 'val':pred_val}\n",
    "    y_true = {'all':labels, 'train':y_train_ts, 'val':y_val_ts}\n",
    "else: \n",
    "    pred = {'all':pred_all, 'train':pred_train}\n",
    "    y_true = {'all':labels, 'train':y_train_ts}\n",
    "results_metrics = pd.DataFrame()\n",
    "results_metrics['r2_score'] = [r2_score(y_true[i], pred[i]) for i in pred]\n",
    "results_metrics['mae'] = [mean_absolute_error(y_true[i], pred[i]) for i in pred]\n",
    "results_metrics['mse'] = [mean_squared_error(y_true[i], pred[i]) for i in pred]\n",
    "results_metrics['rmse'] = [np.sqrt(mean_squared_error(y_true[i], pred[i])) for i in pred]\n",
    "results_metrics.index = [i for i in pred]"
   ]
  },
  {
   "cell_type": "code",
   "execution_count": 35,
   "id": "dc0d8175",
   "metadata": {},
   "outputs": [
    {
     "data": {
      "text/html": [
       "<div>\n",
       "<style scoped>\n",
       "    .dataframe tbody tr th:only-of-type {\n",
       "        vertical-align: middle;\n",
       "    }\n",
       "\n",
       "    .dataframe tbody tr th {\n",
       "        vertical-align: top;\n",
       "    }\n",
       "\n",
       "    .dataframe thead th {\n",
       "        text-align: right;\n",
       "    }\n",
       "</style>\n",
       "<table border=\"1\" class=\"dataframe\">\n",
       "  <thead>\n",
       "    <tr style=\"text-align: right;\">\n",
       "      <th></th>\n",
       "      <th>r2_score</th>\n",
       "      <th>mae</th>\n",
       "      <th>mse</th>\n",
       "      <th>rmse</th>\n",
       "    </tr>\n",
       "  </thead>\n",
       "  <tbody>\n",
       "    <tr>\n",
       "      <th>all</th>\n",
       "      <td>-0.218761</td>\n",
       "      <td>99.158620</td>\n",
       "      <td>11661.438210</td>\n",
       "      <td>107.988139</td>\n",
       "    </tr>\n",
       "    <tr>\n",
       "      <th>train</th>\n",
       "      <td>-0.359223</td>\n",
       "      <td>108.261681</td>\n",
       "      <td>13085.770098</td>\n",
       "      <td>114.393051</td>\n",
       "    </tr>\n",
       "    <tr>\n",
       "      <th>val</th>\n",
       "      <td>-4.644543</td>\n",
       "      <td>35.421588</td>\n",
       "      <td>1688.758957</td>\n",
       "      <td>41.094512</td>\n",
       "    </tr>\n",
       "  </tbody>\n",
       "</table>\n",
       "</div>"
      ],
      "text/plain": [
       "       r2_score         mae           mse        rmse\n",
       "all   -0.218761   99.158620  11661.438210  107.988139\n",
       "train -0.359223  108.261681  13085.770098  114.393051\n",
       "val   -4.644543   35.421588   1688.758957   41.094512"
      ]
     },
     "execution_count": 35,
     "metadata": {},
     "output_type": "execute_result"
    }
   ],
   "source": [
    "results_metrics"
   ]
  },
  {
   "cell_type": "code",
   "execution_count": 36,
   "id": "1e73248b",
   "metadata": {},
   "outputs": [
    {
     "name": "stdout",
     "output_type": "stream",
     "text": [
      "1/1 [==============================] - 0s 24ms/step\n"
     ]
    },
    {
     "data": {
      "image/png": "[encoded data removed]",
      "text/plain": [
       "<Figure size 1500x500 with 1 Axes>"
      ]
     },
     "metadata": {},
     "output_type": "display_data"
    }
   ],
   "source": [
    "for col in df.columns[1:]:\n",
    "    data = featured_df.loc[featured_df.country==col]\n",
    "    a = LSTM_model.predict(feat.reshape(-1, window_size-1))\n",
    "    plt.figure(figsize=(15,5))\n",
    "    plt.title(col)\n",
    "    plt.plot(data.year.iloc[-labels.shape[0]:], labels, color='b', marker='.')\n",
    "    plt.plot(data.year.iloc[-labels.shape[0]:], a, color='r', marker='.')\n",
    "    if cfg.is_validation_phase:\n",
    "        plt.axvline(x=cfg.split_date, color='black', ls='--')\n",
    "    plt.legend(['True', 'Pred'])\n",
    "    plt.show()"
   ]
  },
  {
   "cell_type": "code",
   "execution_count": 29,
   "id": "4e6f71c1",
   "metadata": {},
   "outputs": [],
   "source": [
    "#LSTM_model.save(f'models/LSTM_{cfg.country}')"
   ]
  },
  {
   "cell_type": "markdown",
   "id": "eb4e583d",
   "metadata": {},
   "source": [
    "# Inference"
   ]
  },
  {
   "cell_type": "code",
   "execution_count": 30,
   "id": "be7266f0",
   "metadata": {},
   "outputs": [],
   "source": [
    "last = feat.reshape(-1, window_size-1)[-1]\n",
    "last = np.expand_dims(last, axis=0)"
   ]
  },
  {
   "cell_type": "code",
   "execution_count": 31,
   "id": "c90b512a",
   "metadata": {},
   "outputs": [
    {
     "name": "stdout",
     "output_type": "stream",
     "text": [
      "1/1 [==============================] - 0s 27ms/step\n",
      "1/1 [==============================] - 0s 42ms/step\n",
      "1/1 [==============================] - 0s 35ms/step\n",
      "1/1 [==============================] - 0s 35ms/step\n",
      "1/1 [==============================] - 0s 22ms/step\n",
      "1/1 [==============================] - 0s 15ms/step\n",
      "1/1 [==============================] - 0s 23ms/step\n",
      "1/1 [==============================] - 0s 24ms/step\n",
      "1/1 [==============================] - 0s 24ms/step\n",
      "1/1 [==============================] - 0s 24ms/step\n"
     ]
    }
   ],
   "source": [
    "inf = []\n",
    "for i in range(10):\n",
    "    p = LSTM_model.predict(last)\n",
    "    last = np.expand_dims(np.append(last[:,1:], p),axis=0)\n",
    "    #print(last)\n",
    "    inf.append(p[0,0])"
   ]
  },
  {
   "cell_type": "code",
   "execution_count": 32,
   "id": "bb2bf089",
   "metadata": {},
   "outputs": [
    {
     "data": {
      "text/plain": [
       "[1029271.6,\n",
       " 999169.2,\n",
       " 970017.2,\n",
       " 941895.44,\n",
       " 914468.0,\n",
       " 887797.56,\n",
       " 861821.5,\n",
       " 836329.2,\n",
       " 811867.06,\n",
       " 788309.9]"
      ]
     },
     "execution_count": 32,
     "metadata": {},
     "output_type": "execute_result"
    }
   ],
   "source": [
    "inf"
   ]
  },
  {
   "cell_type": "code",
   "execution_count": 33,
   "id": "0cc3c613",
   "metadata": {},
   "outputs": [
    {
     "name": "stdout",
     "output_type": "stream",
     "text": [
      "1/1 [==============================] - 0s 26ms/step\n"
     ]
    },
    {
     "data": {
      "text/plain": [
       "array([[765236.5]], dtype=float32)"
      ]
     },
     "execution_count": 33,
     "metadata": {},
     "output_type": "execute_result"
    }
   ],
   "source": [
    "LSTM_model.predict(last)"
   ]
  },
  {
   "cell_type": "code",
   "execution_count": 34,
   "id": "5d896133",
   "metadata": {},
   "outputs": [
    {
     "data": {
      "text/plain": [
       "array([[999169.1875, 970017.1875, 941895.4375, 914468.    , 887797.5625,\n",
       "        861821.5   , 836329.1875, 811867.0625, 788309.875 ]])"
      ]
     },
     "execution_count": 34,
     "metadata": {},
     "output_type": "execute_result"
    }
   ],
   "source": [
    "last"
   ]
  },
  {
   "cell_type": "code",
   "execution_count": 35,
   "id": "f7f87849",
   "metadata": {},
   "outputs": [],
   "source": [
    "last = np.array([[532.42, 557.9 , 529.35, 492.75, 497.41, 477.1 , 475.1 ,442.31,462.23248]])"
   ]
  },
  {
   "cell_type": "code",
   "execution_count": 36,
   "id": "9b54e811",
   "metadata": {},
   "outputs": [
    {
     "data": {
      "text/plain": [
       "(1, 9)"
      ]
     },
     "execution_count": 36,
     "metadata": {},
     "output_type": "execute_result"
    }
   ],
   "source": [
    "last.shape"
   ]
  },
  {
   "cell_type": "code",
   "execution_count": null,
   "id": "babc10cd",
   "metadata": {},
   "outputs": [],
   "source": []
  },
  {
   "cell_type": "code",
   "execution_count": null,
   "id": "778fb835",
   "metadata": {},
   "outputs": [],
   "source": []
  },
  {
   "cell_type": "code",
   "execution_count": null,
   "id": "d1a822c7",
   "metadata": {},
   "outputs": [],
   "source": []
  },
  {
   "cell_type": "code",
   "execution_count": null,
   "id": "403fc033",
   "metadata": {},
   "outputs": [],
   "source": []
  }
 ],
 "metadata": {
  "kernelspec": {
   "display_name": "Python 3 (ipykernel)",
   "language": "python",
   "name": "python3"
  },
  "language_info": {
   "codemirror_mode": {
    "name": "ipython",
    "version": 3
   },
   "file_extension": ".py",
   "mimetype": "text/x-python",
   "name": "python",
   "nbconvert_exporter": "python",
   "pygments_lexer": "ipython3",
   "version": "3.10.11"
  }
 },
 "nbformat": 4,
 "nbformat_minor": 5
}
